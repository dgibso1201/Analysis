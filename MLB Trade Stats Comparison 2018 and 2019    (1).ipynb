{
 "cells": [
  {
   "cell_type": "markdown",
   "metadata": {},
   "source": [
    "## MLB Trade Stats Comparison 2018 and 2019 Final Project¶\n"
   ]
  },
  {
   "cell_type": "markdown",
   "metadata": {},
   "source": [
    "## By: David Gibson"
   ]
  },
  {
   "cell_type": "markdown",
   "metadata": {},
   "source": [
    "##  "
   ]
  },
  {
   "cell_type": "markdown",
   "metadata": {},
   "source": [
    "## Data in EMAT"
   ]
  },
  {
   "cell_type": "markdown",
   "metadata": {},
   "source": [
    "## Due: 5/11/21"
   ]
  },
  {
   "cell_type": "markdown",
   "metadata": {},
   "source": [
    "# Overall Question"
   ]
  },
  {
   "cell_type": "markdown",
   "metadata": {},
   "source": [
    "## My overall question is to see what year had the best trades between 2018 and 2019 in the MLB. I will get the average of the stats from before the trade occurred and compare it to after the trade occurred for both years. Then I will see what year had the best averages (stats). I recieved this data from sportsnet.com, sbnation.com, and baseball-reference.com. I structured the data manually and seperated my data in an ordered fashion for the MLB trades in 2018 and 2019. The higher the batting average (avg), the better. The lower the (era) for pitchers, the better. I created a list of each player who was traded in 2018 and in 2019 in the MLB, where they were traded, and how they performed before and after that trade. Each year has its own data file. For pitchers, I compared their era from before and after the trade. For hitters, I compared their batting averages (avg) from before and after the trade.          "
   ]
  },
  {
   "cell_type": "markdown",
   "metadata": {},
   "source": [
    "## Here I loaded in multiple functions that I may use throughout my final project"
   ]
  },
  {
   "cell_type": "code",
   "execution_count": 60,
   "metadata": {},
   "outputs": [],
   "source": [
    "from datetime import datetime as dt\n",
    "import pandas as pd  \n",
    "from matplotlib import pyplot as plt"
   ]
  },
  {
   "cell_type": "markdown",
   "metadata": {},
   "source": [
    "## 2018 MLB Trade Data"
   ]
  },
  {
   "cell_type": "code",
   "execution_count": 63,
   "metadata": {},
   "outputs": [
    {
     "data": {
      "text/html": [
       "<div>\n",
       "<style scoped>\n",
       "    .dataframe tbody tr th:only-of-type {\n",
       "        vertical-align: middle;\n",
       "    }\n",
       "\n",
       "    .dataframe tbody tr th {\n",
       "        vertical-align: top;\n",
       "    }\n",
       "\n",
       "    .dataframe thead th {\n",
       "        text-align: right;\n",
       "    }\n",
       "</style>\n",
       "<table border=\"1\" class=\"dataframe\">\n",
       "  <thead>\n",
       "    <tr style=\"text-align: right;\">\n",
       "      <th></th>\n",
       "      <th></th>\n",
       "      <th></th>\n",
       "      <th></th>\n",
       "      <th>MLB Trade Stats 2018 Batters</th>\n",
       "    </tr>\n",
       "  </thead>\n",
       "  <tbody>\n",
       "    <tr>\n",
       "      <th></th>\n",
       "      <th>Name</th>\n",
       "      <th>Team</th>\n",
       "      <th>BeforeTradeAVG</th>\n",
       "      <td>AfterTradeAVG</td>\n",
       "    </tr>\n",
       "    <tr>\n",
       "      <th>0</th>\n",
       "      <th>Jonathan Schoop</th>\n",
       "      <th>Brewers</th>\n",
       "      <th>.244</th>\n",
       "      <td>.202</td>\n",
       "    </tr>\n",
       "    <tr>\n",
       "      <th>1</th>\n",
       "      <th>Austin Meadows</th>\n",
       "      <th>Rays</th>\n",
       "      <th>.292</th>\n",
       "      <td>.250</td>\n",
       "    </tr>\n",
       "    <tr>\n",
       "      <th>2</th>\n",
       "      <th>Brian Dozier</th>\n",
       "      <th>Dodgers</th>\n",
       "      <th>.227</th>\n",
       "      <td>.182</td>\n",
       "    </tr>\n",
       "    <tr>\n",
       "      <th>3</th>\n",
       "      <th>Logan Forsythe</th>\n",
       "      <th>Twins</th>\n",
       "      <th>.207</th>\n",
       "      <td>.258</td>\n",
       "    </tr>\n",
       "  </tbody>\n",
       "</table>\n",
       "</div>"
      ],
      "text/plain": [
       "                                            MLB Trade Stats 2018 Batters \n",
       "  Name              Team     BeforeTradeAVG                AfterTradeAVG \n",
       "0  Jonathan Schoop  Brewers   .244                                 .202  \n",
       "1  Austin Meadows   Rays      .292                                .250   \n",
       "2  Brian Dozier     Dodgers   .227                                 .182  \n",
       "3  Logan Forsythe   Twins     .207                               .258    "
      ]
     },
     "execution_count": 63,
     "metadata": {},
     "output_type": "execute_result"
    }
   ],
   "source": [
    "MLB2018batters = pd.read_csv(r\"/Users/davidgibson/Desktop/MLBstats2018batters.csv\")\n",
    "MLB2018batters.head()"
   ]
  },
  {
   "cell_type": "code",
   "execution_count": 64,
   "metadata": {},
   "outputs": [
    {
     "data": {
      "text/html": [
       "<div>\n",
       "<style scoped>\n",
       "    .dataframe tbody tr th:only-of-type {\n",
       "        vertical-align: middle;\n",
       "    }\n",
       "\n",
       "    .dataframe tbody tr th {\n",
       "        vertical-align: top;\n",
       "    }\n",
       "\n",
       "    .dataframe thead th {\n",
       "        text-align: right;\n",
       "    }\n",
       "</style>\n",
       "<table border=\"1\" class=\"dataframe\">\n",
       "  <thead>\n",
       "    <tr style=\"text-align: right;\">\n",
       "      <th></th>\n",
       "      <th></th>\n",
       "      <th></th>\n",
       "      <th></th>\n",
       "      <th>MLB Trade Stats 2018 Pitchers</th>\n",
       "    </tr>\n",
       "  </thead>\n",
       "  <tbody>\n",
       "    <tr>\n",
       "      <th></th>\n",
       "      <th>Name</th>\n",
       "      <th>Team</th>\n",
       "      <th>BeforeTradeERA</th>\n",
       "      <td>AfterTradeERA</td>\n",
       "    </tr>\n",
       "    <tr>\n",
       "      <th>0</th>\n",
       "      <th>Jake Diekman</th>\n",
       "      <th>Diamondbacks</th>\n",
       "      <th>3.69</th>\n",
       "      <td>7.53</td>\n",
       "    </tr>\n",
       "    <tr>\n",
       "      <th>1</th>\n",
       "      <th>Kevin Gausman</th>\n",
       "      <th>Braves</th>\n",
       "      <th>4.43</th>\n",
       "      <td>2.87</td>\n",
       "    </tr>\n",
       "    <tr>\n",
       "      <th>2</th>\n",
       "      <th>Chris Archer</th>\n",
       "      <th>Pirates</th>\n",
       "      <th>4.31</th>\n",
       "      <td>4.30</td>\n",
       "    </tr>\n",
       "    <tr>\n",
       "      <th>3</th>\n",
       "      <th>Tyler Glasnow</th>\n",
       "      <th>Rays</th>\n",
       "      <th>4.34</th>\n",
       "      <td>4.20</td>\n",
       "    </tr>\n",
       "  </tbody>\n",
       "</table>\n",
       "</div>"
      ],
      "text/plain": [
       "                                               MLB Trade Stats 2018 Pitchers \n",
       "  Name            Team          BeforeTradeERA                  AfterTradeERA\n",
       "0  Jake Diekman   Diamondbacks   3.69                                  7.53  \n",
       "1  Kevin Gausman  Braves         4.43                                   2.87 \n",
       "2  Chris Archer   Pirates        4.31                                   4.30 \n",
       "3  Tyler Glasnow  Rays           4.34                                  4.20  "
      ]
     },
     "execution_count": 64,
     "metadata": {},
     "output_type": "execute_result"
    }
   ],
   "source": [
    "MLB2018pitchers = pd.read_csv(r\"/Users/davidgibson/Desktop/MLBstats2018pitchers.csv\")\n",
    "MLB2018pitchers.head()"
   ]
  },
  {
   "cell_type": "markdown",
   "metadata": {},
   "source": [
    "## 2019 MLB Trade Data "
   ]
  },
  {
   "cell_type": "code",
   "execution_count": 65,
   "metadata": {},
   "outputs": [
    {
     "data": {
      "text/html": [
       "<div>\n",
       "<style scoped>\n",
       "    .dataframe tbody tr th:only-of-type {\n",
       "        vertical-align: middle;\n",
       "    }\n",
       "\n",
       "    .dataframe tbody tr th {\n",
       "        vertical-align: top;\n",
       "    }\n",
       "\n",
       "    .dataframe thead th {\n",
       "        text-align: right;\n",
       "    }\n",
       "</style>\n",
       "<table border=\"1\" class=\"dataframe\">\n",
       "  <thead>\n",
       "    <tr style=\"text-align: right;\">\n",
       "      <th></th>\n",
       "      <th></th>\n",
       "      <th></th>\n",
       "      <th></th>\n",
       "      <th>MLB Trade Stats 2019 Batters</th>\n",
       "    </tr>\n",
       "  </thead>\n",
       "  <tbody>\n",
       "    <tr>\n",
       "      <th></th>\n",
       "      <th>Name</th>\n",
       "      <th>Team</th>\n",
       "      <th>BeforeTradeAVG</th>\n",
       "      <td>AfterTradeAVG</td>\n",
       "    </tr>\n",
       "    <tr>\n",
       "      <th>0</th>\n",
       "      <th>Scooter Gennett</th>\n",
       "      <th>Giants</th>\n",
       "      <th>.217</th>\n",
       "      <td>.234</td>\n",
       "    </tr>\n",
       "    <tr>\n",
       "      <th>1</th>\n",
       "      <th>Nicholas Castellanos</th>\n",
       "      <th>Cubs</th>\n",
       "      <th>.273</th>\n",
       "      <td>.321</td>\n",
       "    </tr>\n",
       "    <tr>\n",
       "      <th>2</th>\n",
       "      <th>Max Stassi</th>\n",
       "      <th>Angels</th>\n",
       "      <th>.167</th>\n",
       "      <td>.071</td>\n",
       "    </tr>\n",
       "    <tr>\n",
       "      <th>3</th>\n",
       "      <th>Derek Fisher</th>\n",
       "      <th>Blue Jays</th>\n",
       "      <th>.226</th>\n",
       "      <td>.161</td>\n",
       "    </tr>\n",
       "  </tbody>\n",
       "</table>\n",
       "</div>"
      ],
      "text/plain": [
       "                                                   MLB Trade Stats 2019 Batters \n",
       "  Name                   Team       BeforeTradeAVG                 AfterTradeAVG\n",
       "0  Scooter Gennett       Giants      .217                                 .234  \n",
       "1  Nicholas Castellanos  Cubs        .273                                  .321 \n",
       "2  Max Stassi            Angels      .167                                  .071 \n",
       "3  Derek Fisher          Blue Jays   .226                                  .161 "
      ]
     },
     "execution_count": 65,
     "metadata": {},
     "output_type": "execute_result"
    }
   ],
   "source": [
    "MLB2019batters = pd.read_csv(r\"/Users/davidgibson/Desktop/MLBstats2019batters.csv\")\n",
    "MLB2019batters.head()"
   ]
  },
  {
   "cell_type": "code",
   "execution_count": 66,
   "metadata": {},
   "outputs": [
    {
     "data": {
      "text/html": [
       "<div>\n",
       "<style scoped>\n",
       "    .dataframe tbody tr th:only-of-type {\n",
       "        vertical-align: middle;\n",
       "    }\n",
       "\n",
       "    .dataframe tbody tr th {\n",
       "        vertical-align: top;\n",
       "    }\n",
       "\n",
       "    .dataframe thead th {\n",
       "        text-align: right;\n",
       "    }\n",
       "</style>\n",
       "<table border=\"1\" class=\"dataframe\">\n",
       "  <thead>\n",
       "    <tr style=\"text-align: right;\">\n",
       "      <th></th>\n",
       "      <th></th>\n",
       "      <th></th>\n",
       "      <th></th>\n",
       "      <th>MLB Trade Stats 2019 Pitchers</th>\n",
       "    </tr>\n",
       "  </thead>\n",
       "  <tbody>\n",
       "    <tr>\n",
       "      <th></th>\n",
       "      <th>Name</th>\n",
       "      <th>Team</th>\n",
       "      <th>BeforeTradeERA</th>\n",
       "      <td>AfterTradeERA</td>\n",
       "    </tr>\n",
       "    <tr>\n",
       "      <th>0</th>\n",
       "      <th>Adam Kolarek</th>\n",
       "      <th>Dodgers</th>\n",
       "      <th>3.95</th>\n",
       "      <td>0.77</td>\n",
       "    </tr>\n",
       "    <tr>\n",
       "      <th>1</th>\n",
       "      <th>Sam Dyson</th>\n",
       "      <th>Twins</th>\n",
       "      <th>2.47</th>\n",
       "      <td>7.15</td>\n",
       "    </tr>\n",
       "    <tr>\n",
       "      <th>2</th>\n",
       "      <th>Mark Melancon</th>\n",
       "      <th>Braves</th>\n",
       "      <th>3.50</th>\n",
       "      <td>3.86</td>\n",
       "    </tr>\n",
       "    <tr>\n",
       "      <th>3</th>\n",
       "      <th>Zack Greinke</th>\n",
       "      <th>Astros</th>\n",
       "      <th>2.90</th>\n",
       "      <td>3.02</td>\n",
       "    </tr>\n",
       "  </tbody>\n",
       "</table>\n",
       "</div>"
      ],
      "text/plain": [
       "                                          MLB Trade Stats 2019 Pitchers \n",
       "  Name            Team     BeforeTradeERA                  AfterTradeERA\n",
       "0  Adam Kolarek   Dodgers   3.95                                  0.77  \n",
       "1  Sam Dyson      Twins     2.47                                 7.15   \n",
       "2  Mark Melancon  Braves    3.50                                   3.86 \n",
       "3  Zack Greinke   Astros    2.90                                   3.02 "
      ]
     },
     "execution_count": 66,
     "metadata": {},
     "output_type": "execute_result"
    }
   ],
   "source": [
    "MLB2019pitchers = pd.read_csv(r\"/Users/davidgibson/Desktop/MLBstats2019pitchers.csv\")\n",
    "MLB2019pitchers.head()"
   ]
  },
  {
   "cell_type": "markdown",
   "metadata": {},
   "source": [
    "# I am going to begin by working with the MLB trade data from 2018. Here I will display the stats of every player who was traded in 2018.   "
   ]
  },
  {
   "cell_type": "code",
   "execution_count": 67,
   "metadata": {},
   "outputs": [
    {
     "data": {
      "text/html": [
       "<div>\n",
       "<style scoped>\n",
       "    .dataframe tbody tr th:only-of-type {\n",
       "        vertical-align: middle;\n",
       "    }\n",
       "\n",
       "    .dataframe tbody tr th {\n",
       "        vertical-align: top;\n",
       "    }\n",
       "\n",
       "    .dataframe thead th {\n",
       "        text-align: right;\n",
       "    }\n",
       "</style>\n",
       "<table border=\"1\" class=\"dataframe\">\n",
       "  <thead>\n",
       "    <tr style=\"text-align: right;\">\n",
       "      <th></th>\n",
       "      <th></th>\n",
       "      <th></th>\n",
       "      <th></th>\n",
       "      <th>MLB Trade Stats 2018 Batters</th>\n",
       "    </tr>\n",
       "  </thead>\n",
       "  <tbody>\n",
       "    <tr>\n",
       "      <th></th>\n",
       "      <th>Name</th>\n",
       "      <th>Team</th>\n",
       "      <th>BeforeTradeAVG</th>\n",
       "      <td>AfterTradeAVG</td>\n",
       "    </tr>\n",
       "    <tr>\n",
       "      <th>0</th>\n",
       "      <th>Jonathan Schoop</th>\n",
       "      <th>Brewers</th>\n",
       "      <th>.244</th>\n",
       "      <td>.202</td>\n",
       "    </tr>\n",
       "    <tr>\n",
       "      <th>1</th>\n",
       "      <th>Austin Meadows</th>\n",
       "      <th>Rays</th>\n",
       "      <th>.292</th>\n",
       "      <td>.250</td>\n",
       "    </tr>\n",
       "    <tr>\n",
       "      <th>2</th>\n",
       "      <th>Brian Dozier</th>\n",
       "      <th>Dodgers</th>\n",
       "      <th>.227</th>\n",
       "      <td>.182</td>\n",
       "    </tr>\n",
       "    <tr>\n",
       "      <th>3</th>\n",
       "      <th>Logan Forsythe</th>\n",
       "      <th>Twins</th>\n",
       "      <th>.207</th>\n",
       "      <td>.258</td>\n",
       "    </tr>\n",
       "    <tr>\n",
       "      <th>4</th>\n",
       "      <th>Wilson Ramos</th>\n",
       "      <th>Phillies</th>\n",
       "      <th>.297</th>\n",
       "      <td>.337</td>\n",
       "    </tr>\n",
       "    <tr>\n",
       "      <th>5</th>\n",
       "      <th>Leonys Martin</th>\n",
       "      <th>Indians</th>\n",
       "      <th>.251</th>\n",
       "      <td>.333</td>\n",
       "    </tr>\n",
       "    <tr>\n",
       "      <th>6</th>\n",
       "      <th>Tommy Pham</th>\n",
       "      <th>Rays</th>\n",
       "      <th>.248</th>\n",
       "      <td>.343</td>\n",
       "    </tr>\n",
       "    <tr>\n",
       "      <th>7</th>\n",
       "      <th>Ian Kinsler</th>\n",
       "      <th>Red Sox</th>\n",
       "      <th>.239</th>\n",
       "      <td>.242</td>\n",
       "    </tr>\n",
       "    <tr>\n",
       "      <th>8</th>\n",
       "      <th>Adam Duvall</th>\n",
       "      <th>Braves</th>\n",
       "      <th>.205</th>\n",
       "      <td>.132</td>\n",
       "    </tr>\n",
       "    <tr>\n",
       "      <th>9</th>\n",
       "      <th>Luke Voit</th>\n",
       "      <th>Yankees</th>\n",
       "      <th>.182</th>\n",
       "      <td>.333</td>\n",
       "    </tr>\n",
       "    <tr>\n",
       "      <th>10</th>\n",
       "      <th>Mike Moustakas</th>\n",
       "      <th>Brewers</th>\n",
       "      <th>.249</th>\n",
       "      <td>.256</td>\n",
       "    </tr>\n",
       "    <tr>\n",
       "      <th>11</th>\n",
       "      <th>Asdrubal Cabrera</th>\n",
       "      <th>Phillies</th>\n",
       "      <th>.277</th>\n",
       "      <td>.228</td>\n",
       "    </tr>\n",
       "    <tr>\n",
       "      <th>12</th>\n",
       "      <th>Eduardo Escobar</th>\n",
       "      <th>Diamondbacks</th>\n",
       "      <th>.274</th>\n",
       "      <td>.268</td>\n",
       "    </tr>\n",
       "    <tr>\n",
       "      <th>13</th>\n",
       "      <th>Brandon Drury</th>\n",
       "      <th>Blue Jays</th>\n",
       "      <th>.176</th>\n",
       "      <td>.154</td>\n",
       "    </tr>\n",
       "    <tr>\n",
       "      <th>14</th>\n",
       "      <th>Martin Maldonado</th>\n",
       "      <th>Astros</th>\n",
       "      <th>.223</th>\n",
       "      <td>.231</td>\n",
       "    </tr>\n",
       "  </tbody>\n",
       "</table>\n",
       "</div>"
      ],
      "text/plain": [
       "                                                   MLB Trade Stats 2018 Batters \n",
       "   Name               Team          BeforeTradeAVG                AfterTradeAVG \n",
       "0   Jonathan Schoop   Brewers        .244                                 .202  \n",
       "1   Austin Meadows    Rays           .292                                .250   \n",
       "2   Brian Dozier      Dodgers        .227                                 .182  \n",
       "3   Logan Forsythe    Twins          .207                               .258    \n",
       "4   Wilson Ramos      Phillies       .297                                  .337 \n",
       "5   Leonys Martin     Indians        .251                                 .333  \n",
       "6   Tommy Pham        Rays           .248                                 .343  \n",
       "7   Ian Kinsler       Red Sox       .239                                   .242 \n",
       "8   Adam Duvall       Braves         .205                                  .132 \n",
       "9   Luke Voit         Yankees        .182                                  .333 \n",
       "10  Mike Moustakas    Brewers        .249                                  .256 \n",
       "11  Asdrubal Cabrera  Phillies       .277                                  .228 \n",
       "12  Eduardo Escobar   Diamondbacks   .274                                   .268\n",
       "13  Brandon Drury     Blue Jays      .176                                  .154 \n",
       "14  Martin Maldonado  Astros         .223                                 .231  "
      ]
     },
     "execution_count": 67,
     "metadata": {},
     "output_type": "execute_result"
    }
   ],
   "source": [
    "MLB2018batters.head(16)"
   ]
  },
  {
   "cell_type": "code",
   "execution_count": 68,
   "metadata": {},
   "outputs": [
    {
     "data": {
      "text/html": [
       "<div>\n",
       "<style scoped>\n",
       "    .dataframe tbody tr th:only-of-type {\n",
       "        vertical-align: middle;\n",
       "    }\n",
       "\n",
       "    .dataframe tbody tr th {\n",
       "        vertical-align: top;\n",
       "    }\n",
       "\n",
       "    .dataframe thead th {\n",
       "        text-align: right;\n",
       "    }\n",
       "</style>\n",
       "<table border=\"1\" class=\"dataframe\">\n",
       "  <thead>\n",
       "    <tr style=\"text-align: right;\">\n",
       "      <th></th>\n",
       "      <th></th>\n",
       "      <th></th>\n",
       "      <th></th>\n",
       "      <th>MLB Trade Stats 2018 Pitchers</th>\n",
       "    </tr>\n",
       "  </thead>\n",
       "  <tbody>\n",
       "    <tr>\n",
       "      <th></th>\n",
       "      <th>Name</th>\n",
       "      <th>Team</th>\n",
       "      <th>BeforeTradeERA</th>\n",
       "      <td>AfterTradeERA</td>\n",
       "    </tr>\n",
       "    <tr>\n",
       "      <th>0</th>\n",
       "      <th>Jake Diekman</th>\n",
       "      <th>Diamondbacks</th>\n",
       "      <th>3.69</th>\n",
       "      <td>7.53</td>\n",
       "    </tr>\n",
       "    <tr>\n",
       "      <th>1</th>\n",
       "      <th>Kevin Gausman</th>\n",
       "      <th>Braves</th>\n",
       "      <th>4.43</th>\n",
       "      <td>2.87</td>\n",
       "    </tr>\n",
       "    <tr>\n",
       "      <th>2</th>\n",
       "      <th>Chris Archer</th>\n",
       "      <th>Pirates</th>\n",
       "      <th>4.31</th>\n",
       "      <td>4.30</td>\n",
       "    </tr>\n",
       "    <tr>\n",
       "      <th>3</th>\n",
       "      <th>Tyler Glasnow</th>\n",
       "      <th>Rays</th>\n",
       "      <th>4.34</th>\n",
       "      <td>4.20</td>\n",
       "    </tr>\n",
       "    <tr>\n",
       "      <th>4</th>\n",
       "      <th>Brandon Kintzler</th>\n",
       "      <th>Cubs</th>\n",
       "      <th>3.59</th>\n",
       "      <td>7.00</td>\n",
       "    </tr>\n",
       "    <tr>\n",
       "      <th>5</th>\n",
       "      <th>Brad Ziegler</th>\n",
       "      <th>Diamondbacks</th>\n",
       "      <th>3.98</th>\n",
       "      <td>3.74</td>\n",
       "    </tr>\n",
       "    <tr>\n",
       "      <th>6</th>\n",
       "      <th>Keone Kela</th>\n",
       "      <th>Pirates</th>\n",
       "      <th>3.44</th>\n",
       "      <td>2.93</td>\n",
       "    </tr>\n",
       "    <tr>\n",
       "      <th>7</th>\n",
       "      <th>Lance Lynn</th>\n",
       "      <th>Yankees</th>\n",
       "      <th>5.10</th>\n",
       "      <td>4.14</td>\n",
       "    </tr>\n",
       "    <tr>\n",
       "      <th>8</th>\n",
       "      <th>Adam Warren</th>\n",
       "      <th>Mariners</th>\n",
       "      <th>2.70</th>\n",
       "      <td>3.74</td>\n",
       "    </tr>\n",
       "    <tr>\n",
       "      <th>9</th>\n",
       "      <th>Roberto Osuna</th>\n",
       "      <th>Astros</th>\n",
       "      <th>2.93</th>\n",
       "      <td>1.99</td>\n",
       "    </tr>\n",
       "    <tr>\n",
       "      <th>10</th>\n",
       "      <th>Ken Giles</th>\n",
       "      <th>Blue Jays</th>\n",
       "      <th>4.99</th>\n",
       "      <td>4.12</td>\n",
       "    </tr>\n",
       "    <tr>\n",
       "      <th>11</th>\n",
       "      <th>Brad Brach</th>\n",
       "      <th>Braves</th>\n",
       "      <th>4.85</th>\n",
       "      <td>1.52</td>\n",
       "    </tr>\n",
       "    <tr>\n",
       "      <th>12</th>\n",
       "      <th>Chasen Shreve</th>\n",
       "      <th>Cardinals</th>\n",
       "      <th>4.26</th>\n",
       "      <td>3.07</td>\n",
       "    </tr>\n",
       "    <tr>\n",
       "      <th>13</th>\n",
       "      <th>Ryan Pressly</th>\n",
       "      <th>Astros</th>\n",
       "      <th>3.40</th>\n",
       "      <td>0.77</td>\n",
       "    </tr>\n",
       "    <tr>\n",
       "      <th>14</th>\n",
       "      <th>Jonny Venters</th>\n",
       "      <th>Braves</th>\n",
       "      <th>3.86</th>\n",
       "      <td>3.54</td>\n",
       "    </tr>\n",
       "    <tr>\n",
       "      <th>15</th>\n",
       "      <th>Cole Hamels</th>\n",
       "      <th>Cubs</th>\n",
       "      <th>4.72</th>\n",
       "      <td>2.36</td>\n",
       "    </tr>\n",
       "    <tr>\n",
       "      <th>16</th>\n",
       "      <th>J.A. Happ</th>\n",
       "      <th>Yankees</th>\n",
       "      <th>4.18</th>\n",
       "      <td>2.69</td>\n",
       "    </tr>\n",
       "    <tr>\n",
       "      <th>17</th>\n",
       "      <th>Joakim Soria</th>\n",
       "      <th>Brewers</th>\n",
       "      <th>2.56</th>\n",
       "      <td>4.09</td>\n",
       "    </tr>\n",
       "    <tr>\n",
       "      <th>18</th>\n",
       "      <th>Nathan Eovaldi</th>\n",
       "      <th>Red Sox</th>\n",
       "      <th>4.26</th>\n",
       "      <td>3.33</td>\n",
       "    </tr>\n",
       "    <tr>\n",
       "      <th>19</th>\n",
       "      <th>Matt Andriese</th>\n",
       "      <th>Diamondbacks</th>\n",
       "      <th>4.07</th>\n",
       "      <td>9.00</td>\n",
       "    </tr>\n",
       "    <tr>\n",
       "      <th>20</th>\n",
       "      <th>Zach Britton</th>\n",
       "      <th>Yankees</th>\n",
       "      <th>3.45</th>\n",
       "      <td>2.88</td>\n",
       "    </tr>\n",
       "    <tr>\n",
       "      <th>21</th>\n",
       "      <th>Brad Hand</th>\n",
       "      <th>Indians</th>\n",
       "      <th>3.05</th>\n",
       "      <td>2.28</td>\n",
       "    </tr>\n",
       "  </tbody>\n",
       "</table>\n",
       "</div>"
      ],
      "text/plain": [
       "                                                   MLB Trade Stats 2018 Pitchers \n",
       "   Name               Team          BeforeTradeERA                  AfterTradeERA\n",
       "0   Jake Diekman      Diamondbacks   3.69                                  7.53  \n",
       "1   Kevin Gausman     Braves         4.43                                   2.87 \n",
       "2   Chris Archer      Pirates        4.31                                   4.30 \n",
       "3   Tyler Glasnow     Rays           4.34                                  4.20  \n",
       "4   Brandon Kintzler  Cubs           3.59                                  7.00  \n",
       "5   Brad Ziegler      Diamondbacks   3.98                                  3.74  \n",
       "6   Keone Kela        Pirates        3.44                                  2.93  \n",
       "7   Lance Lynn        Yankees        5.10                                   4.14 \n",
       "8   Adam Warren       Mariners       2.70                                   3.74 \n",
       "9   Roberto Osuna     Astros         2.93                                   1.99 \n",
       "10  Ken Giles         Blue Jays      4.99                                   4.12 \n",
       "11  Brad Brach        Braves         4.85                                   1.52 \n",
       "12  Chasen Shreve     Cardinals      4.26                                  3.07  \n",
       "13  Ryan Pressly      Astros         3.40                                  0.77  \n",
       "14  Jonny Venters     Braves         3.86                                   3.54 \n",
       "15  Cole Hamels       Cubs           4.72                                   2.36 \n",
       "16  J.A. Happ         Yankees        4.18                                   2.69 \n",
       "17  Joakim Soria      Brewers        2.56                                  4.09  \n",
       "18  Nathan Eovaldi    Red Sox        4.26                                   3.33 \n",
       "19  Matt Andriese     Diamondbacks   4.07                                 9.00   \n",
       "20  Zach Britton      Yankees        3.45                                  2.88  \n",
       "21  Brad Hand         Indians        3.05                                  2.28  "
      ]
     },
     "execution_count": 68,
     "metadata": {},
     "output_type": "execute_result"
    }
   ],
   "source": [
    "MLB2018pitchers.head(23)"
   ]
  },
  {
   "cell_type": "code",
   "execution_count": 77,
   "metadata": {},
   "outputs": [
    {
     "name": "stdout",
     "output_type": "stream",
     "text": [
      "MLB2018batters_BeforeTradeAVG\n"
     ]
    }
   ],
   "source": [
    "print(\"MLB2018batters_BeforeTradeAVG\")"
   ]
  },
  {
   "cell_type": "code",
   "execution_count": 70,
   "metadata": {},
   "outputs": [
    {
     "name": "stdout",
     "output_type": "stream",
     "text": [
      "MLB2018batters_AfterTradeAVG\n"
     ]
    }
   ],
   "source": [
    "print(\"MLB2018batters_AfterTradeAVG\")"
   ]
  },
  {
   "cell_type": "code",
   "execution_count": 71,
   "metadata": {},
   "outputs": [
    {
     "name": "stdout",
     "output_type": "stream",
     "text": [
      "MLB2018pitchers_BeforeTradeERA\n"
     ]
    }
   ],
   "source": [
    "print(\"MLB2018pitchers_BeforeTradeERA\")"
   ]
  },
  {
   "cell_type": "code",
   "execution_count": 72,
   "metadata": {},
   "outputs": [
    {
     "name": "stdout",
     "output_type": "stream",
     "text": [
      "MLB2018pitchers_AfterTradeERA\n"
     ]
    }
   ],
   "source": [
    "print(\"MLB2018pitchers_AfterTradeERA\")"
   ]
  },
  {
   "cell_type": "code",
   "execution_count": 73,
   "metadata": {},
   "outputs": [
    {
     "name": "stderr",
     "output_type": "stream",
     "text": [
      "<>:2: SyntaxWarning: str indices must be integers or slices, not str; perhaps you missed a comma?\n",
      "<>:2: SyntaxWarning: str indices must be integers or slices, not str; perhaps you missed a comma?\n",
      "<>:3: SyntaxWarning: str indices must be integers or slices, not str; perhaps you missed a comma?\n",
      "<>:3: SyntaxWarning: str indices must be integers or slices, not str; perhaps you missed a comma?\n",
      "<>:2: SyntaxWarning: str indices must be integers or slices, not str; perhaps you missed a comma?\n",
      "<>:2: SyntaxWarning: str indices must be integers or slices, not str; perhaps you missed a comma?\n",
      "<>:3: SyntaxWarning: str indices must be integers or slices, not str; perhaps you missed a comma?\n",
      "<>:3: SyntaxWarning: str indices must be integers or slices, not str; perhaps you missed a comma?\n",
      "<ipython-input-73-8858f18d32cc>:2: SyntaxWarning: str indices must be integers or slices, not str; perhaps you missed a comma?\n",
      "  plt.hist(\"MLB2018pitchers_BeforeTradeERA\"['Name'].loc[\"MLB2018pitchers_BeforeTradeERA\"['category'] == 'stats'], bins, alpha = 0.5, label = \"BeforeTradeERA\")\n",
      "<ipython-input-73-8858f18d32cc>:2: SyntaxWarning: str indices must be integers or slices, not str; perhaps you missed a comma?\n",
      "  plt.hist(\"MLB2018pitchers_BeforeTradeERA\"['Name'].loc[\"MLB2018pitchers_BeforeTradeERA\"['category'] == 'stats'], bins, alpha = 0.5, label = \"BeforeTradeERA\")\n"
     ]
    },
    {
     "ename": "TypeError",
     "evalue": "string indices must be integers",
     "output_type": "error",
     "traceback": [
      "\u001b[0;31m---------------------------------------------------------------------------\u001b[0m",
      "\u001b[0;31mTypeError\u001b[0m                                 Traceback (most recent call last)",
      "\u001b[0;32m<ipython-input-73-8858f18d32cc>\u001b[0m in \u001b[0;36m<module>\u001b[0;34m\u001b[0m\n\u001b[1;32m      1\u001b[0m \u001b[0mbins\u001b[0m \u001b[0;34m=\u001b[0m \u001b[0mMLB2018pitchers\u001b[0m\u001b[0;34m.\u001b[0m\u001b[0mhead\u001b[0m\u001b[0;34m(\u001b[0m\u001b[0;36m16\u001b[0m\u001b[0;34m)\u001b[0m\u001b[0;34m\u001b[0m\u001b[0;34m\u001b[0m\u001b[0m\n\u001b[0;32m----> 2\u001b[0;31m \u001b[0mplt\u001b[0m\u001b[0;34m.\u001b[0m\u001b[0mhist\u001b[0m\u001b[0;34m(\u001b[0m\u001b[0;34m\"MLB2018pitchers_BeforeTradeERA\"\u001b[0m\u001b[0;34m[\u001b[0m\u001b[0;34m'Name'\u001b[0m\u001b[0;34m]\u001b[0m\u001b[0;34m.\u001b[0m\u001b[0mloc\u001b[0m\u001b[0;34m[\u001b[0m\u001b[0;34m\"MLB2018pitchers_BeforeTradeERA\"\u001b[0m\u001b[0;34m[\u001b[0m\u001b[0;34m'category'\u001b[0m\u001b[0;34m]\u001b[0m \u001b[0;34m==\u001b[0m \u001b[0;34m'stats'\u001b[0m\u001b[0;34m]\u001b[0m\u001b[0;34m,\u001b[0m \u001b[0mbins\u001b[0m\u001b[0;34m,\u001b[0m \u001b[0malpha\u001b[0m \u001b[0;34m=\u001b[0m \u001b[0;36m0.5\u001b[0m\u001b[0;34m,\u001b[0m \u001b[0mlabel\u001b[0m \u001b[0;34m=\u001b[0m \u001b[0;34m\"BeforeTradeERA\"\u001b[0m\u001b[0;34m)\u001b[0m\u001b[0;34m\u001b[0m\u001b[0;34m\u001b[0m\u001b[0m\n\u001b[0m\u001b[1;32m      3\u001b[0m \u001b[0mplt\u001b[0m\u001b[0;34m.\u001b[0m\u001b[0mhist\u001b[0m\u001b[0;34m(\u001b[0m\u001b[0;34m\"MLB2018pitchers_AfterTradeERA\"\u001b[0m\u001b[0;34m[\u001b[0m\u001b[0;34m'Name'\u001b[0m\u001b[0;34m]\u001b[0m\u001b[0;34m.\u001b[0m\u001b[0mloc\u001b[0m\u001b[0;34m[\u001b[0m\u001b[0;34m\"MLB2018pitchers_AfterTradeERA\"\u001b[0m\u001b[0;34m[\u001b[0m\u001b[0;34m'category'\u001b[0m\u001b[0;34m]\u001b[0m \u001b[0;34m==\u001b[0m \u001b[0;34m'stats'\u001b[0m\u001b[0;34m]\u001b[0m\u001b[0;34m,\u001b[0m \u001b[0mbins\u001b[0m\u001b[0;34m,\u001b[0m \u001b[0malpha\u001b[0m \u001b[0;34m=\u001b[0m \u001b[0;36m0.5\u001b[0m\u001b[0;34m,\u001b[0m \u001b[0mlabel\u001b[0m \u001b[0;34m=\u001b[0m \u001b[0;34m\"AfterTradeERA\"\u001b[0m\u001b[0;34m)\u001b[0m\u001b[0;34m\u001b[0m\u001b[0;34m\u001b[0m\u001b[0m\n\u001b[1;32m      4\u001b[0m \u001b[0mplt\u001b[0m\u001b[0;34m.\u001b[0m\u001b[0mlegend\u001b[0m\u001b[0;34m(\u001b[0m\u001b[0mloc\u001b[0m \u001b[0;34m=\u001b[0m \u001b[0;34m'upper right'\u001b[0m\u001b[0;34m)\u001b[0m\u001b[0;34m\u001b[0m\u001b[0;34m\u001b[0m\u001b[0m\n\u001b[1;32m      5\u001b[0m \u001b[0mplt\u001b[0m\u001b[0;34m.\u001b[0m\u001b[0mshow\u001b[0m\u001b[0;34m(\u001b[0m\u001b[0;34m)\u001b[0m\u001b[0;34m\u001b[0m\u001b[0;34m\u001b[0m\u001b[0m\n",
      "\u001b[0;31mTypeError\u001b[0m: string indices must be integers"
     ]
    }
   ],
   "source": [
    "bins = MLB2018pitchers.head(16)\n",
    "plt.hist(\"MLB2018pitchers_BeforeTradeERA\"['Name'].loc[\"MLB2018pitchers_BeforeTradeERA\"['category'] == 'stats'], bins, alpha = 0.5, label = \"BeforeTradeERA\")\n",
    "plt.hist(\"MLB2018pitchers_AfterTradeERA\"['Name'].loc[\"MLB2018pitchers_AfterTradeERA\"['category'] == 'stats'], bins, alpha = 0.5, label = \"AfterTradeERA\")\n",
    "plt.legend(loc = 'upper right')\n",
    "plt.show() "
   ]
  },
  {
   "cell_type": "code",
   "execution_count": 74,
   "metadata": {},
   "outputs": [],
   "source": [
    "import matplotlib.pyplot as plt\n",
    "import numpy as np"
   ]
  },
  {
   "cell_type": "code",
   "execution_count": null,
   "metadata": {},
   "outputs": [],
   "source": []
  }
 ],
 "metadata": {
  "kernelspec": {
   "display_name": "Python 3",
   "language": "python",
   "name": "python3"
  },
  "language_info": {
   "codemirror_mode": {
    "name": "ipython",
    "version": 3
   },
   "file_extension": ".py",
   "mimetype": "text/x-python",
   "name": "python",
   "nbconvert_exporter": "python",
   "pygments_lexer": "ipython3",
   "version": "3.8.5"
  }
 },
 "nbformat": 4,
 "nbformat_minor": 4
}
